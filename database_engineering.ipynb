In [1]:
import pandas as pd
import sqlalchemy
from sqlalchemy import create_engine, MetaData
from sqlalchemy.ext.declarative import declarative_base
from sqlalchemy import Column, Integer, String, Numeric, Text, Float, ForeignKey
from sqlalchemy.orm import sessionmaker, relationship
    In [2]:
engine = create_engine("sqlite:///hawaii.sqlite")
    In [3]:
Base = declarative_base()
    In [4]:
class Measurement(Base):
    
    __tablename__ = 'measurement'

    id = Column(Integer, primary_key=True)
    station = Column(Text)
    date = Column(Text)
    prcp = Column(Float)
    tobs = Column(Float)
    
    def __repr__(self):
        return f"id={self.id}, name={self.station}"
    In [5]:
class Station(Base):
    
    __tablename__ = 'station'

    id = Column(Integer, primary_key=True)
    station = Column(Text)
    name = Column(Text)
    latitude = Column(Float)
    longitude = Column(Float)
    elevation = Column(Float)

    def __repr__(self):
        return f"id={self.id}, name={self.name}"
    In [6]:
Base.metadata.create_all(engine)
    In [7]:
engine.table_names()
    Out [7]:
   ['measurement', 'station']
    In [8]:
def populate_table(engine, table, csvfile):
    """Populates a table from a Pandas DataFrame."""
    conn = engine.connect()
    
    df_of_data_to_insert = pd.read_csv(csvfile)
    
    data = df_of_data_to_insert.to_dict(orient='records')

    conn.execute(table.delete())

    conn.execute(table.insert(), data)
    
populate_table(engine, Station.__table__, 'clean_hawaii_stations.csv')
populate_table(engine, Measurement.__table__, 'clean_hawaii_measurements.csv')
    In [9]:
engine.execute("SELECT * FROM measurement LIMIT 1").fetchall()
    Out [9]:
   [(1, 'USC00519397', '2010-01-01', 0.08, 65.0)]
    In [10]:
engine.execute("SELECT * FROM station LIMIT 1").fetchall()
    Out [10]:
   [(1, 'USC00519397', 'WAIKIKI 717.2, HI US', 21.2716, -157.8168, 3.0)]
