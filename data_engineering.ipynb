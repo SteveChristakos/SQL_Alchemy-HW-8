In [1]:
import os
import pandas as pd
import numpy as np
    In [2]:
rootdir = os.getcwd()
    In [3]:
csvs = os.scandir(rootdir)
    In [4]:
for csv in csvs:
    if csv.name.endswith('.csv'):
        df = pd.read_csv(csv.path, dtype=object)

        if 'location' in df.columns:
            df = df.drop(['location'], axis=1).reset_index(drop=True)
        
        df.fillna(df.mean(), inplace=True)

        df.to_csv(os.path.join(rootdir, f"clean_{csv.name}"), index=False)
    In [5]:
!ls 
    Out [5]:
   app.py                        data_engineering.ipynb
clean_hawaii_measurements.csv database_engineering.ipynb
clean_hawaii_stations.csv     [31mhawaii_measurements.csv[m[m
climate_analysis.ipynb        [31mhawaii_stations.csv[m[m
